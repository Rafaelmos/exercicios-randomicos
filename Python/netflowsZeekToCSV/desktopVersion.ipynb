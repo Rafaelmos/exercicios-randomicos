{
 "cells": [
  {
   "cell_type": "markdown",
   "metadata": {},
   "source": []
  },
  {
   "cell_type": "code",
   "execution_count": null,
   "metadata": {},
   "outputs": [],
   "source": [
    "import pandas as pd\n",
    "\n",
    "\n",
    "arquivo = 'CTU-IoT-Malware-Capture-21-1'\n",
    "nome_do_arquivo = f'C:\\\\Users\\\\user\\\\Desktop\\\\iot_23_datasets_small\\\\opt\\\\Malware-Project\\\\BigDataset\\\\IoTScenarios\\\\{arquivo}\\\\bro\\\\conn.log.labeled'\n",
    "cabecalho = [\n",
    "    'ts', 'uid', 'id.orig_h', 'id.orig_p', 'id.resp_h', 'id.resp_p',\n",
    "    'proto', 'service', 'duration', 'orig_bytes', 'resp_bytes',\n",
    "    'conn_state', 'local_orig', 'local_resp', 'missed_bytes',\n",
    "    'history', 'orig_pkts', 'orig_ip_bytes', 'resp_pkts', 'resp_ip_bytes',\n",
    "    'tunnel_parents', 'label', 'detailed-label'\n",
    "]\n",
    "dados_rotulados = pd.read_csv(nome_do_arquivo, sep='\\x09', skiprows=6, comment='#', header=None, names=cabecalho)\n",
    "\n",
    "\n",
    "dados_rotulados[['tunnel_parents', 'label', 'detailed-label']] = dados_rotulados['tunnel_parents'].str.split('   ', n=2, expand=True)\n",
    "\n",
    "print(dados_rotulados.head())"
   ]
  },
  {
   "cell_type": "code",
   "execution_count": null,
   "metadata": {},
   "outputs": [
    {
     "name": "stdout",
     "output_type": "stream",
     "text": [
      "Arquivo 'CTU-IoT-Malware-Capture-21-1' salvo com sucesso.\n"
     ]
    }
   ],
   "source": [
    "dados_rotulados.to_csv(f'{arquivo}.csv', index=False, sep=';')\n",
    "print(f\"Arquivo '{arquivo}' salvo com sucesso.\")"
   ]
  }
 ],
 "metadata": {
  "kernelspec": {
   "display_name": "Python 3",
   "language": "python",
   "name": "python3"
  },
  "language_info": {
   "codemirror_mode": {
    "name": "ipython",
    "version": 3
   },
   "file_extension": ".py",
   "mimetype": "text/x-python",
   "name": "python",
   "nbconvert_exporter": "python",
   "pygments_lexer": "ipython3",
   "version": "3.12.0"
  }
 },
 "nbformat": 4,
 "nbformat_minor": 2
}
