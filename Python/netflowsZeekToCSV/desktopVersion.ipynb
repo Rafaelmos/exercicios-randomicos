{
 "cells": [
  {
   "cell_type": "markdown",
   "metadata": {},
   "source": []
  },
  {
   "cell_type": "code",
   "execution_count": null,
   "metadata": {},
   "outputs": [],
   "source": [
    "import pandas as pd\n",
    "\n",
    "i = 15\n",
    "lista = ['CTU-Honeypot-Capture-4-1','CTU-Honeypot-Capture-5-1','CTU-Honeypot-Capture-7-1', #2\n",
    "         'CTU-IoT-Malware-Capture-1-1','CTU-IoT-Malware-Capture-3-1','CTU-IoT-Malware-Capture-7-1','CTU-IoT-Malware-Capture-8-1', #6\n",
    "         'CTU-IoT-Malware-Capture-9-1','CTU-IoT-Malware-Capture-17-1','CTU-IoT-Malware-Capture-20-1','CTU-IoT-Malware-Capture-21-1', #10\n",
    "         'CTU-IoT-Malware-Capture-33-1','CTU-IoT-Malware-Capture-34-1','CTU-IoT-Malware-Capture-35-1','CTU-IoT-Malware-Capture-36-1', #14\n",
    "         'CTU-IoT-Malware-Capture-39-1','CTU-IoT-Malware-Capture-42-1','CTU-IoT-Malware-Capture-43-1','CTU-IoT-Malware-Capture-44-1', #18\n",
    "         'CTU-IoT-Malware-Capture-48-1','CTU-IoT-Malware-Capture-49-1','CTU-IoT-Malware-Capture-52-1','CTU-IoT-Malware-Capture-60-1',] #22\n",
    "arquivo = lista[i]\n",
    "nome_do_arquivo = f'C:\\\\Users\\\\rafae\\\\Desktop\\\\iot_23_datasets_small\\\\opt\\\\Malware-Project\\\\BigDataset\\\\IoTScenarios\\\\{arquivo}\\\\bro\\\\conn.log.labeled'\n",
    "cabecalho = ['ts', 'uid', 'id.orig_h', 'id.orig_p', 'id.resp_h', 'id.resp_p',\n",
    "    'proto', 'service', 'duration', 'orig_bytes', 'resp_bytes',\n",
    "    'conn_state', 'local_orig', 'local_resp', 'missed_bytes',\n",
    "    'history', 'orig_pkts', 'orig_ip_bytes', 'resp_pkts', 'resp_ip_bytes',\n",
    "    'tunnel_parents', 'label', 'detailed-label']\n",
    "dados_rotulados = pd.read_csv(nome_do_arquivo, sep='\\x09', skiprows=6, comment='#', header=None, names=cabecalho, low_memory=True)\n",
    "\n",
    "\n",
    "\n",
    "dados_rotulados[['tunnel_parents', 'label', 'detailed-label']] = dados_rotulados['tunnel_parents'].str.split('   ', n=2, expand=True)\n",
    "\n",
    "print(dados_rotulados.head())"
   ]
  },
  {
   "cell_type": "code",
   "execution_count": null,
   "metadata": {},
   "outputs": [],
   "source": [
    "dados_rotulados.head(5)"
   ]
  },
  {
   "cell_type": "code",
   "execution_count": null,
   "metadata": {},
   "outputs": [],
   "source": [
    "def convert_to_float(value):\n",
    "    try:\n",
    "        return float(value)\n",
    "    except (ValueError, TypeError):\n",
    "        return None\n",
    "    \n",
    "def convert_to_int(value):\n",
    "    try:\n",
    "        return int(value)\n",
    "    except (ValueError, TypeError):\n",
    "        return None\n",
    "    "
   ]
  },
  {
   "cell_type": "code",
   "execution_count": null,
   "metadata": {},
   "outputs": [],
   "source": [
    "#ts\t    uid\t    id.orig_h\tid.orig_p\tid.resp_h\tid.resp_p\tproto\tservice\tduration\torig_bytes\tresp_bytes\tconn_state\tlocal_orig\tlocal_resp\tmissed_bytes\thistory\torig_pkts\torig_ip_bytes\tresp_pkts\tresp_ip_bytes\ttunnel_parents   label   detailed-label\n",
    "#time\tstring\taddr\t    port\t    addr\t    port\t    enum\tstring\tinterval\tcount\t    count\t    string\t    bool\t    bool\t    count\t        string\tcount\t    count\t        count\t    count\t        set[string]      string  string"
   ]
  },
  {
   "cell_type": "code",
   "execution_count": null,
   "metadata": {},
   "outputs": [],
   "source": [
    "dados_rotulados['duration'] = dados_rotulados['duration'].apply(convert_to_float)\n",
    "dados_rotulados['orig_bytes'] = dados_rotulados['orig_bytes'].apply(convert_to_int)\n",
    "dados_rotulados['resp_bytes'] = dados_rotulados['resp_bytes'].apply(convert_to_int)\n",
    "dados_rotulados['missed_bytes'] = dados_rotulados['missed_bytes'].apply(convert_to_int)"
   ]
  },
  {
   "cell_type": "code",
   "execution_count": null,
   "metadata": {},
   "outputs": [],
   "source": [
    "dados_rotulados['orig_pkts'] = dados_rotulados['orig_pkts'].apply(convert_to_int)\n",
    "dados_rotulados['orig_ip_bytes'] = dados_rotulados['orig_ip_bytes'].apply(convert_to_int)\n",
    "dados_rotulados['resp_pkts'] = dados_rotulados['resp_pkts'].apply(convert_to_int)\n",
    "dados_rotulados['resp_ip_bytes'] = dados_rotulados['resp_ip_bytes'].apply(convert_to_int)"
   ]
  },
  {
   "cell_type": "code",
   "execution_count": null,
   "metadata": {},
   "outputs": [],
   "source": [
    "dados_rotulados.to_csv(f'{arquivo}.csv', index=False, sep=';')\n",
    "\n",
    "print(f\"Arquivo '{arquivo}' salvo com sucesso.\")"
   ]
  },
  {
   "cell_type": "code",
   "execution_count": null,
   "metadata": {},
   "outputs": [],
   "source": [
    "dados_rotulados.to_parquet(f'{arquivo}.parquet', index=False)"
   ]
  }
 ],
 "metadata": {
  "kernelspec": {
   "display_name": "Python 3",
   "language": "python",
   "name": "python3"
  },
  "language_info": {
   "codemirror_mode": {
    "name": "ipython",
    "version": 3
   },
   "file_extension": ".py",
   "mimetype": "text/x-python",
   "name": "python",
   "nbconvert_exporter": "python",
   "pygments_lexer": "ipython3",
   "version": "3.12.0"
  }
 },
 "nbformat": 4,
 "nbformat_minor": 2
}
