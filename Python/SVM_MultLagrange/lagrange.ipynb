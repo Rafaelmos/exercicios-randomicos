{
  "nbformat": 4,
  "nbformat_minor": 0,
  "metadata": {
    "colab": {
      "provenance": []
    },
    "kernelspec": {
      "name": "python3",
      "display_name": "Python 3"
    },
    "language_info": {
      "name": "python"
    }
  },
  "cells": [
    {
      "cell_type": "markdown",
      "source": [
        "Questão 07) Dada a tabela com as informações de dados históricos, encontre os valores de w, b e α (multiplicadores de lagrange) para um SVM.\n",
        "\n",
        "![Captura de tela 2023-11-21 194335.png](data:image/png;base64,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)\n",
        "\n",
        "\n",
        "Obs: Não usem função de kernel, façam a multiplicação (dot product) dos x.\n"
      ],
      "metadata": {
        "id": "HoC8EP2aDDs2"
      }
    },
    {
      "cell_type": "markdown",
      "source": [
        "\n",
        "\n",
        "```\n",
        "x1 | x2 | y |\n",
        " 1 | 2  |-1 |\n",
        "-1 | 2  |-1 |\n",
        "-1 | -2 | 1 |\n",
        "```\n",
        "\n",
        "\n",
        "\n",
        "\n",
        "\n"
      ],
      "metadata": {
        "id": "bdRKxI4oDfUs"
      }
    },
    {
      "cell_type": "code",
      "execution_count": null,
      "metadata": {
        "id": "AhRqUt3AC-qb"
      },
      "outputs": [],
      "source": [
        "import numpy as np\n",
        "from sklearn.svm import SVC"
      ]
    },
    {
      "cell_type": "code",
      "source": [
        "x1 = np.array([1, -1, -1])\n",
        "x2 = np.array([2, 2, -2])\n",
        "y = np.array([-1, -1, 1])"
      ],
      "metadata": {
        "id": "31lW_tZhEVw9"
      },
      "execution_count": null,
      "outputs": []
    },
    {
      "cell_type": "code",
      "source": [
        "model = SVC(kernel='linear')\n",
        "model.fit(np.column_stack([x1, x2]), y)"
      ],
      "metadata": {
        "id": "AObpKLXgEfx9",
        "colab": {
          "base_uri": "https://localhost:8080/",
          "height": 75
        },
        "outputId": "31c95dd3-c68e-4911-a9b4-8f92d4c01b7b"
      },
      "execution_count": null,
      "outputs": [
        {
          "output_type": "execute_result",
          "data": {
            "text/plain": [
              "SVC(kernel='linear')"
            ],
            "text/html": [
              "<style>#sk-container-id-16 {color: black;background-color: white;}#sk-container-id-16 pre{padding: 0;}#sk-container-id-16 div.sk-toggleable {background-color: white;}#sk-container-id-16 label.sk-toggleable__label {cursor: pointer;display: block;width: 100%;margin-bottom: 0;padding: 0.3em;box-sizing: border-box;text-align: center;}#sk-container-id-16 label.sk-toggleable__label-arrow:before {content: \"▸\";float: left;margin-right: 0.25em;color: #696969;}#sk-container-id-16 label.sk-toggleable__label-arrow:hover:before {color: black;}#sk-container-id-16 div.sk-estimator:hover label.sk-toggleable__label-arrow:before {color: black;}#sk-container-id-16 div.sk-toggleable__content {max-height: 0;max-width: 0;overflow: hidden;text-align: left;background-color: #f0f8ff;}#sk-container-id-16 div.sk-toggleable__content pre {margin: 0.2em;color: black;border-radius: 0.25em;background-color: #f0f8ff;}#sk-container-id-16 input.sk-toggleable__control:checked~div.sk-toggleable__content {max-height: 200px;max-width: 100%;overflow: auto;}#sk-container-id-16 input.sk-toggleable__control:checked~label.sk-toggleable__label-arrow:before {content: \"▾\";}#sk-container-id-16 div.sk-estimator input.sk-toggleable__control:checked~label.sk-toggleable__label {background-color: #d4ebff;}#sk-container-id-16 div.sk-label input.sk-toggleable__control:checked~label.sk-toggleable__label {background-color: #d4ebff;}#sk-container-id-16 input.sk-hidden--visually {border: 0;clip: rect(1px 1px 1px 1px);clip: rect(1px, 1px, 1px, 1px);height: 1px;margin: -1px;overflow: hidden;padding: 0;position: absolute;width: 1px;}#sk-container-id-16 div.sk-estimator {font-family: monospace;background-color: #f0f8ff;border: 1px dotted black;border-radius: 0.25em;box-sizing: border-box;margin-bottom: 0.5em;}#sk-container-id-16 div.sk-estimator:hover {background-color: #d4ebff;}#sk-container-id-16 div.sk-parallel-item::after {content: \"\";width: 100%;border-bottom: 1px solid gray;flex-grow: 1;}#sk-container-id-16 div.sk-label:hover label.sk-toggleable__label {background-color: #d4ebff;}#sk-container-id-16 div.sk-serial::before {content: \"\";position: absolute;border-left: 1px solid gray;box-sizing: border-box;top: 0;bottom: 0;left: 50%;z-index: 0;}#sk-container-id-16 div.sk-serial {display: flex;flex-direction: column;align-items: center;background-color: white;padding-right: 0.2em;padding-left: 0.2em;position: relative;}#sk-container-id-16 div.sk-item {position: relative;z-index: 1;}#sk-container-id-16 div.sk-parallel {display: flex;align-items: stretch;justify-content: center;background-color: white;position: relative;}#sk-container-id-16 div.sk-item::before, #sk-container-id-16 div.sk-parallel-item::before {content: \"\";position: absolute;border-left: 1px solid gray;box-sizing: border-box;top: 0;bottom: 0;left: 50%;z-index: -1;}#sk-container-id-16 div.sk-parallel-item {display: flex;flex-direction: column;z-index: 1;position: relative;background-color: white;}#sk-container-id-16 div.sk-parallel-item:first-child::after {align-self: flex-end;width: 50%;}#sk-container-id-16 div.sk-parallel-item:last-child::after {align-self: flex-start;width: 50%;}#sk-container-id-16 div.sk-parallel-item:only-child::after {width: 0;}#sk-container-id-16 div.sk-dashed-wrapped {border: 1px dashed gray;margin: 0 0.4em 0.5em 0.4em;box-sizing: border-box;padding-bottom: 0.4em;background-color: white;}#sk-container-id-16 div.sk-label label {font-family: monospace;font-weight: bold;display: inline-block;line-height: 1.2em;}#sk-container-id-16 div.sk-label-container {text-align: center;}#sk-container-id-16 div.sk-container {/* jupyter's `normalize.less` sets `[hidden] { display: none; }` but bootstrap.min.css set `[hidden] { display: none !important; }` so we also need the `!important` here to be able to override the default hidden behavior on the sphinx rendered scikit-learn.org. See: https://github.com/scikit-learn/scikit-learn/issues/21755 */display: inline-block !important;position: relative;}#sk-container-id-16 div.sk-text-repr-fallback {display: none;}</style><div id=\"sk-container-id-16\" class=\"sk-top-container\"><div class=\"sk-text-repr-fallback\"><pre>SVC(kernel=&#x27;linear&#x27;)</pre><b>In a Jupyter environment, please rerun this cell to show the HTML representation or trust the notebook. <br />On GitHub, the HTML representation is unable to render, please try loading this page with nbviewer.org.</b></div><div class=\"sk-container\" hidden><div class=\"sk-item\"><div class=\"sk-estimator sk-toggleable\"><input class=\"sk-toggleable__control sk-hidden--visually\" id=\"sk-estimator-id-16\" type=\"checkbox\" checked><label for=\"sk-estimator-id-16\" class=\"sk-toggleable__label sk-toggleable__label-arrow\">SVC</label><div class=\"sk-toggleable__content\"><pre>SVC(kernel=&#x27;linear&#x27;)</pre></div></div></div></div></div>"
            ]
          },
          "metadata": {},
          "execution_count": 109
        }
      ]
    },
    {
      "cell_type": "code",
      "source": [
        "w = model.coef_\n",
        "b = model.intercept_\n",
        "a = model.dual_coef_\n",
        "\n",
        "print('w =', w)\n",
        "print('b =', b)\n",
        "print('α =', a)"
      ],
      "metadata": {
        "colab": {
          "base_uri": "https://localhost:8080/"
        },
        "id": "bMtnZW-TE8KQ",
        "outputId": "8dfc8276-b387-44cc-e576-49d852fe40b8"
      },
      "execution_count": null,
      "outputs": [
        {
          "output_type": "stream",
          "name": "stdout",
          "text": [
            "w = [[ 0.  -0.5]]\n",
            "b = [-0.]\n",
            "α = [[-0.125  0.125]]\n"
          ]
        }
      ]
    }
  ]
}